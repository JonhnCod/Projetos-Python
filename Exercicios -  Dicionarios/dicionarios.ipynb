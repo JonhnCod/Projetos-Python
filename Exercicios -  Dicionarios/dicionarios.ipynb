{
 "cells": [
  {
   "cell_type": "markdown",
   "metadata": {},
   "source": [
    "### Exercício 1\n",
    "Crie um sistema de consulta de preços\n",
    "Seu sistema deve:\n",
    "- Pedir para o usuário o nome de um produto\n",
    "- Caso o produto exista na lista de produtos, o programa deve retornar o preço do produto como resposta\n",
    "       - Ex: O produto celular custa R$1500\n",
    "- Caso o produto não exista na lista de produtos, o programa deve printar uma mensagem para o usuário tentar novamente\n"
   ]
  },
  {
   "cell_type": "code",
   "execution_count": null,
   "metadata": {},
   "outputs": [],
   "source": [
    "precos = {\"celular\": 1500, \"camera\": 1000, \"fone de ouvido\": 800, \"monitor\": 2000}\n",
    "\n",
    "while True:\n",
    "\n",
    "    produto = input(\"Digite o nome do produto: \")\n",
    "    if produto in precos:\n",
    "        print(f'O produto {produto} custa R$ {precos[produto]}')\n",
    "        break\n",
    "    else:\n",
    "        print(\"produto nao encontrado tente novamente\")"
   ]
  },
  {
   "cell_type": "markdown",
   "metadata": {},
   "source": [
    "\n",
    "### Exercício 2\n",
    "Agora edite o programa anterior para fazer com que, caso não exista o produto, o programa pergunte se o usuário quer cadastrar o produto\n",
    "<br>Se ele responder sim, o programa deve pedir o nome do produto e o preco do produto e cadastrar no dicionário de preços\n",
    "<br>Em seguida do cadastro bem sucedido, o programa deve printar o dicionário de precos atualizado\n"
   ]
  },
  {
   "cell_type": "code",
   "execution_count": null,
   "metadata": {},
   "outputs": [],
   "source": [
    "precos = {\"celular\": 1500, \"camera\": 1000, \"fone de ouvido\": 800, \"monitor\": 2000}\n",
    "\n",
    "while True:\n",
    "\n",
    "    produto = input(\"Digite o nome do produto: \")\n",
    "    if produto in precos:\n",
    "        print(f'O produto {produto} custa R$ {precos[produto]}')\n",
    "        break\n",
    "    else:\n",
    "        resposta = input(\"produto nao encontrado, deseja cadastrar esse produto 'S' ou 'N': \").upper()\n",
    "        if resposta == 'S':\n",
    "            valor = float(input(\"Digite o valor do produto : \"))\n",
    "            precos[produto] = valor\n",
    "            print(f'O produto {produto} foi cadastrado com sucesso')\n",
    "            break\n",
    "        else:\n",
    "            pass\n",
    "\n",
    "print(precos)   "
   ]
  },
  {
   "cell_type": "markdown",
   "metadata": {},
   "source": [
    "### Exercício 3\n",
    "Dada a lista de preços de produtos, uma loja resolveu fazer um reajuste nos preços dos produtos. \n",
    "calcule o novo valor dos produtos com base nas seguintes regras:\n",
    "- Preços até 1.000 vão ter um reajuste de 10% (ou seja, o novo preço será 110% do preço atual)\n",
    "- Preços até maiores que 1.000 até 2.000 vão ter reajuste de 15%\n",
    "- Preços acima de 2.000 vão ter reajuste de 20%"
   ]
  },
  {
   "cell_type": "code",
   "execution_count": null,
   "metadata": {},
   "outputs": [],
   "source": [
    "precos = {\"celular\": 1500, \"camera\": 1000, \"fone de ouvido\": 800, \"monitor\": 3000}\n",
    "novopreco = {}\n",
    "\n",
    "for i in precos:\n",
    "    if precos[i] <= 1000:\n",
    "        novopreco[i] = precos[i] + (precos[i]*(10/100))\n",
    "    elif precos[i] in range(1001,2001):\n",
    "        novopreco[i] =  precos[i] + (precos[i]*(15/100))\n",
    "    else:\n",
    "        novopreco[i] = precos[i] + (precos[i]*(20/100))\n",
    "print(precos)\n",
    "print(novopreco)"
   ]
  },
  {
   "cell_type": "markdown",
   "metadata": {},
   "source": [
    "### Exercício 4\n",
    " - Edite o programa antigo para ter os 2 dicionários, o de preços originais e o de novos preços\n",
    " - Em seguida calcule o valor total de reajuste em R$ que teve entre a lista de produtos original e a lista final\n"
   ]
  },
  {
   "cell_type": "code",
   "execution_count": null,
   "metadata": {},
   "outputs": [],
   "source": [
    "precos = {\"celular\": 1500, \"camera\": 1000, \"fone de ouvido\": 800, \"monitor\": 3000}\n",
    "novopreco = {}\n",
    "totalPrecos = 0\n",
    "totalNovopreco = 0\n",
    "\n",
    "for i in precos:\n",
    "    if precos[i] <= 1000:\n",
    "        novopreco[i] = precos[i] + (precos[i]*(10/100))\n",
    "    elif precos[i] in range(1001,2001):\n",
    "        novopreco[i] =  precos[i] + (precos[i]*(15/100))\n",
    "    else:\n",
    "        novopreco[i] = precos[i] + (precos[i]*(20/100))\n",
    "\n",
    "\n",
    "for l in precos and novopreco:\n",
    "    totalPrecos += precos[l]\n",
    "    totalNovopreco+=novopreco[l]\n",
    "\n",
    "reajuste = totalNovopreco - totalPrecos\n",
    "\n",
    "print(precos)\n",
    "print(novopreco)\n",
    "print(f'Os valores teve um reajuste de R${reajuste}')"
   ]
  },
  {
   "cell_type": "markdown",
   "metadata": {},
   "source": [
    "\n",
    "### Exercício 5\n",
    "- Uma empresa está analisando os resultados de vendas do 1º semestre de 2022 e 2023\n",
    "- Qual foi o % de crescimento de cada mês de 2023 em relação a 2022?\n",
    "- Depois de calcular isso, calcule o valor total de crescimento de 2023 em relação a 2022"
   ]
  },
  {
   "cell_type": "code",
   "execution_count": null,
   "metadata": {},
   "outputs": [],
   "source": [
    "vendas_22 = {\"jan\": 15000, \"fev\": 15500, \"mar\": 14000, \"abr\": 16600, \"mai\": 16300, \"jun\": 17000}\n",
    "vendas_23 = {\"jan\": 17000, \"fev\": 15000, \"mar\": 17500, \"abr\": 16900, \"mai\": 16000, \"jun\": 18500}\n",
    "porcentetotal = 0\n",
    "\n",
    "for i in vendas_22 and vendas_23:\n",
    "    venda22 = vendas_22[i]\n",
    "    venda23 = vendas_23[i]\n",
    "    diferenca = venda23 - venda22\n",
    "    aumentoporecnto = (diferenca / venda22)*100\n",
    "    porcentetotal += aumentoporecnto\n",
    "    print(f'As vendas no mes de {i} no ano 2022 foi de R${venda22} e no Ano 2023 foi de R${venda23} , uma diferenca de {diferenca} de um ano para o outro , essa diferenca representa {aumentoporecnto:.2f}%')\n",
    "print(f'Um aumento total de {porcentetotal:.2f}% no ano')"
   ]
  },
  {
   "cell_type": "markdown",
   "metadata": {},
   "source": [
    "### Exercício 6 - Desafio\n",
    "- No final da reunião de apresentação dos números, seu chefe perguntou:\n",
    "- E se nos meses de 2023 que a gente vendeu menos do que 2022 a gente tivesse pelo menos empatado com 2022 (ou seja, se nos meses de 2023 em que as vendas foram menores do que o mesmo mês em 2022, o valor de vendas tivesse sido igual a 2022)\n",
    "- Qual teria sido o nosso crescimento de 2023 frente a 2022?"
   ]
  },
  {
   "cell_type": "code",
   "execution_count": null,
   "metadata": {},
   "outputs": [],
   "source": [
    "vendas_22 = {\"jan\": 15000, \"fev\": 15500, \"mar\": 14000, \"abr\": 16600, \"mai\": 16300, \"jun\": 17000}\n",
    "vendas_23 = {\"jan\": 17000, \"fev\": 15000, \"mar\": 17500, \"abr\": 16900, \"mai\": 16000, \"jun\": 18500}\n",
    "porcentetotal = 0\n",
    "\n",
    "for i in vendas_22 and vendas_23:\n",
    "    venda22 = vendas_22[i]\n",
    "    venda23 = vendas_23[i]\n",
    "    diferenca = venda23 - venda22\n",
    "    aumentoporecnto = (diferenca / venda22)*100\n",
    "    if aumentoporecnto > 0:\n",
    "        porcentetotal += aumentoporecnto\n",
    "    else:\n",
    "        pass\n",
    "    print(f'As vendas no mes de {i} no ano 2022 foi de R${venda22} e no Ano 2023 foi de R${venda23} , uma diferenca de {diferenca} de um ano para o outro , essa diferenca representa {aumentoporecnto:.2f}%')\n",
    "print(f'Um aumento total de {porcentetotal:.2f}% no ano')"
   ]
  }
 ],
 "metadata": {
  "kernelspec": {
   "display_name": "Python 3",
   "language": "python",
   "name": "python3"
  },
  "language_info": {
   "codemirror_mode": {
    "name": "ipython",
    "version": 3
   },
   "file_extension": ".py",
   "mimetype": "text/x-python",
   "name": "python",
   "nbconvert_exporter": "python",
   "pygments_lexer": "ipython3",
   "version": "3.13.5"
  }
 },
 "nbformat": 4,
 "nbformat_minor": 2
}
