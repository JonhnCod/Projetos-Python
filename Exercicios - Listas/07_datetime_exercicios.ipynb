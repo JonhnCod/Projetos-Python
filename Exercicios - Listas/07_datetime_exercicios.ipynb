{
 "cells": [
  {
   "cell_type": "markdown",
   "metadata": {},
   "source": [
    "## Oferecendo desconto para cliente com base na última compra\n",
    "\n",
    "Suponha que você está trabalhando para uma empresa que deseja rastrear a atividade do cliente. Uma métrica que eles estão interessados é o tempo que passou desde a última transação do cliente. Se for muito tempo, eles podem oferecer um desconto para o cliente. Crie um script Python que mostra quanto tempo se passou desde a última compra do cliente. Se faz mais de 30 dias, mostre uma mensagem oferecendo um desconto para o cliente."
   ]
  },
  {
   "cell_type": "code",
   "execution_count": null,
   "metadata": {},
   "outputs": [],
   "source": [
    "from datetime import *\n",
    "\n",
    "data_hoje = date.today()\n",
    "data_ultima_compra = input('Digite a data da ultima compra. (obs: En formato padrao DD/MM/AA): ')\n",
    "formato = '%d/%m/%Y'\n",
    "ultima_compra_form = datetime.strptime(data_ultima_compra, formato).date()\n",
    "diferenca =  data_hoje - ultima_compra_form \n",
    "\n",
    "if diferenca.days >= 30:\n",
    "    print(f'cliente com {diferenca.days} dias sem compras, Desconto liberado')\n",
    "else:\n",
    "    print(f'cliente com {diferenca.days} dias sem compras, cliente sem desconto')\n"
   ]
  },
  {
   "cell_type": "markdown",
   "metadata": {},
   "source": [
    "## Data e hora em diferentes fusos horários\n",
    "\n",
    "Uma empresa tem escritórios em São Paulo, Nova York e Tóquio. Crie um script Python que mostra a data e hora atuais nesses três fusos horários. Exiba, também, se estes escritórios estão abertos ou fechados (9h às 17h).\n"
   ]
  },
  {
   "cell_type": "code",
   "execution_count": null,
   "metadata": {},
   "outputs": [],
   "source": [
    "import locale\n",
    "import pytz\n",
    "from datetime import datetime\n",
    "\n",
    "\n",
    "locale.setlocale(locale.LC_TIME, 'pt_BR.UTF-8')\n",
    "\n",
    "lista_fuso = {\"Sao Paulo\": (pytz.timezone('America/Sao_Paulo')),\n",
    "\"Nova York\": (pytz.timezone('America/New_York')),\n",
    "\"Tokyo\":(pytz.timezone('Asia/Tokyo'))}\n",
    "\n",
    "data_hora_atual = datetime.now()\n",
    "\n",
    "for i in lista_fuso:\n",
    "    fuso_horario = lista_fuso[i]\n",
    "    data_hora_regiao = data_hora_atual.astimezone(fuso_horario)\n",
    "    data_hora_atual_formatada = data_hora_regiao.strftime('%A, %d-%m-%Y, %H:%M:%S')\n",
    "    \n",
    "    if data_hora_regiao.hour in range(9,17):\n",
    "        print(f'Data/Hora em {i}: {data_hora_atual_formatada} , Escritorio Aberto ')\n",
    "    elif data_hora_regiao.hour == 17 and data_hora_regiao.minute <= 0:\n",
    "        print(f'Data/Hora em {i}: {data_hora_atual_formatada} , Escritorio Fechado')\n",
    "    else:\n",
    "        print(f'Data/Hora em {i}: {data_hora_atual_formatada} , Escritorio Fechado')"
   ]
  }
 ],
 "metadata": {
  "kernelspec": {
   "display_name": "Python 3",
   "language": "python",
   "name": "python3"
  },
  "language_info": {
   "codemirror_mode": {
    "name": "ipython",
    "version": 3
   },
   "file_extension": ".py",
   "mimetype": "text/x-python",
   "name": "python",
   "nbconvert_exporter": "python",
   "pygments_lexer": "ipython3",
   "version": "3.13.3"
  }
 },
 "nbformat": 4,
 "nbformat_minor": 4
}
