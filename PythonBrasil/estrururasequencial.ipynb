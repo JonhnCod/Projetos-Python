{
 "cells": [
  {
   "cell_type": "markdown",
   "metadata": {},
   "source": [
    "Faça um Programa que mostre a mensagem \"Alo mundo\" na tela."
   ]
  },
  {
   "cell_type": "code",
   "execution_count": null,
   "metadata": {},
   "outputs": [],
   "source": [
    "print('Alo Mundo')"
   ]
  },
  {
   "cell_type": "markdown",
   "metadata": {},
   "source": [
    "Faça um Programa que peça um número e então mostre a mensagem O número informado foi [número]."
   ]
  },
  {
   "cell_type": "code",
   "execution_count": null,
   "metadata": {},
   "outputs": [],
   "source": [
    "numero = input('Qual o número')\n",
    "print(f'O Número informado foi: {numero}')\n"
   ]
  },
  {
   "cell_type": "markdown",
   "metadata": {},
   "source": [
    "Faça um Programa que peça dois números e imprima a soma."
   ]
  },
  {
   "cell_type": "code",
   "execution_count": null,
   "metadata": {},
   "outputs": [],
   "source": [
    "n1 = int(input(\"Digite o Primeiro número: \"))\n",
    "n2 = int(input(\"Digite o Segundo número: \"))\n",
    "soma = n1 + n2 \n",
    "print(f'A soma de {n1} e {n2} é {soma}')"
   ]
  },
  {
   "cell_type": "markdown",
   "metadata": {},
   "source": [
    "Faça um Programa que peça as 4 notas bimestrais e mostre a média"
   ]
  },
  {
   "cell_type": "code",
   "execution_count": null,
   "metadata": {},
   "outputs": [],
   "source": [
    "n1 = int(input('NOTA 1: '))\n",
    "n2 = int(input('NOTA 2: '))\n",
    "n3 = int(input('NOTA 3: '))\n",
    "n4 = int(input('NOTA 4: '))\n",
    "media = (n1 + n2 + n3 + n4) / 4\n",
    "print(f'Média: {media}')"
   ]
  },
  {
   "cell_type": "markdown",
   "metadata": {},
   "source": [
    "Faça um Programa que converta metros para centímetros"
   ]
  },
  {
   "cell_type": "code",
   "execution_count": null,
   "metadata": {},
   "outputs": [],
   "source": [
    "metros = float(input(\"Mts: \"))\n",
    "centimetros = metros * 100\n",
    "print(f\"{metros} Mts : {centimetros} Cm\")"
   ]
  },
  {
   "cell_type": "markdown",
   "metadata": {},
   "source": [
    "Faça um Programa que peça o raio de um círculo, calcule e mostre sua área."
   ]
  },
  {
   "cell_type": "code",
   "execution_count": null,
   "metadata": {},
   "outputs": [],
   "source": [
    "raio = float(input(\"Qual o raio do ciculo: \"))\n",
    "pi = 3.1415\n",
    "area = pi*(raio**2)\n",
    "\n",
    "print(f\"Raio: {raio} Área: {area:.2f}cm²\")"
   ]
  },
  {
   "cell_type": "markdown",
   "metadata": {},
   "source": [
    "Faça um Programa que calcule a área de um quadrado, em seguida mostre o dobro desta área para o usuário."
   ]
  },
  {
   "cell_type": "code",
   "execution_count": null,
   "metadata": {},
   "outputs": [],
   "source": [
    "lado = float(input(\"Valor do lado do quadrado: \"))\n",
    "area = lado**2\n",
    "print(f\"Dobro da área: {area*2}\")\n"
   ]
  },
  {
   "cell_type": "markdown",
   "metadata": {},
   "source": [
    "Faça um Programa que pergunte quanto você ganha por hora e o número de horas trabalhadas no mês. Calcule e mostre o total do seu salário no referido mês."
   ]
  },
  {
   "cell_type": "code",
   "execution_count": null,
   "metadata": {},
   "outputs": [],
   "source": [
    "valor_hora = float(input(\"Qual os ganhos por Hora Trabalhada: \"))\n",
    "trabalho_horas = float(input(\"Horas Trabalhadas: \"))\n",
    "salario_mes = trabalho_horas * valor_hora\n",
    "\n",
    "print(f\"Salário: {salario_mes:.2f}R$\")\n"
   ]
  },
  {
   "cell_type": "markdown",
   "metadata": {},
   "source": [
    "Faça um Programa que peça a temperatura em graus Fahrenheit, transforme e mostre a temperatura em graus Celsius.\n",
    "C = 5 * ((F-32) / 9)."
   ]
  },
  {
   "cell_type": "code",
   "execution_count": null,
   "metadata": {},
   "outputs": [],
   "source": [
    "fahrenheit = float(input(\"Qual a temperatura (F): \"))\n",
    "celsius = 5*((fahrenheit-32)/9)\n",
    "print(f\"FAHRENHEIT: {fahrenheit} CELSIUS: {int(celsius)}\")"
   ]
  },
  {
   "cell_type": "markdown",
   "metadata": {},
   "source": [
    "Faça um Programa que peça a temperatura em graus Celsius, transforme e mostre em graus Fahrenheit."
   ]
  },
  {
   "cell_type": "code",
   "execution_count": null,
   "metadata": {},
   "outputs": [],
   "source": [
    "celsius = float(input(\"Qual a temperatura (c): \"))\n",
    "fahrenheit = (celsius * 1.8) + 32\n",
    "\n",
    "print(f\"CELSIUS: {celsius} FAHRENHEIT: {fahrenheit}\")"
   ]
  },
  {
   "cell_type": "markdown",
   "metadata": {},
   "source": [
    "Faça um Programa que peça 2 números inteiros e um número real. Calcule e mostre:\n",
    " - o produto do dobro do primeiro com metade do segundo .\n",
    " - a soma do triplo do primeiro com o terceiro.\n",
    " - o terceiro elevado ao cubo."
   ]
  },
  {
   "cell_type": "code",
   "execution_count": null,
   "metadata": {},
   "outputs": [],
   "source": [
    "n1 = int(input(\"Número 1: \"))\n",
    "n2 = int(input(\"Número 2: \"))\n",
    "n3 = float(input(\"Numero 3: \"))\n",
    "\n",
    "resposta1 = (n1*2) * (n2/2)\n",
    "resposta2 = (n1*3) + n3\n",
    "resposta3 = n3**3\n",
    "\n",
    "print(f\"O produto do dobro do primeiro com metade do segundo: {resposta1}\")\n",
    "print(f\"A soma do triplo do primeiro com o terceiro. {resposta2}\")\n",
    "print(f\"O terceiro elevado ao cubo. {resposta3:.2f}\")"
   ]
  },
  {
   "cell_type": "markdown",
   "metadata": {},
   "source": [
    "Tendo como dados de entrada a altura de uma pessoa, construa um algoritmo que calcule seu peso ideal, usando a seguinte fórmula: (72.7*altura) - 58"
   ]
  },
  {
   "cell_type": "code",
   "execution_count": null,
   "metadata": {},
   "outputs": [],
   "source": [
    "altura = float(input(\"Digite a Altura: \"))\n",
    "peso = (72.7*altura) - 58\n",
    "\n",
    "print(f\"Altura: {altura} Peso Ideal: {peso}\")"
   ]
  },
  {
   "cell_type": "markdown",
   "metadata": {},
   "source": [
    "Tendo como dado de entrada a altura (h) de uma pessoa, construa um algoritmo que calcule seu peso ideal, utilizando as seguintes fórmulas:\n",
    "- Para homens: (72.7*h) - 58\n",
    "- Para mulheres: (62.1*h) - 44.7"
   ]
  },
  {
   "cell_type": "code",
   "execution_count": null,
   "metadata": {},
   "outputs": [],
   "source": [
    "sexo = input(\"Qual o Sexo M ou F: \").upper()\n",
    "h = float(input(\"Digite a Altura: \"))\n",
    "match sexo:\n",
    "    case \"M\":\n",
    "        peso_homem = (72.7*altura) - 58\n",
    "        print(f\"Altura: {altura} Peso Ideal: {peso}\")\n",
    "    case \"F\":\n",
    "        peso_mulher = (62.1*altura) - 44.7\n",
    "        print(f\"Altura: {altura} Peso Ideal: {peso}\")"
   ]
  },
  {
   "cell_type": "markdown",
   "metadata": {},
   "source": [
    "João Papo-de-Pescador, homem de bem, comprou um microcomputador para controlar o rendimento diário de seu trabalho. Toda vez que ele traz um peso de peixes maior que o estabelecido pelo regulamento de pesca do estado de São Paulo (50 quilos) deve pagar uma multa de R$ 4,00 por quilo excedente. João precisa que você faça um programa que leia a variável peso (peso de peixes) e calcule o excesso. Gravar na variável excesso a quantidade de quilos além do limite e na variável multa o valor da multa que João deverá pagar. Imprima os dados do programa com as mensagens adequadas."
   ]
  },
  {
   "cell_type": "code",
   "execution_count": null,
   "metadata": {},
   "outputs": [],
   "source": [
    "peso_permitido = 50.00\n",
    "multa = 4.00\n",
    "peso = float(input(\"Digite o peso do Peixe: \"))\n",
    "if peso > peso_permitido:\n",
    "    execesso = peso - peso_permitido\n",
    "    multa_pagar = execesso * multa\n",
    "    print(f\"Execesso (Kg): {execesso}Kg\")\n",
    "    print(f\"Valor Total da multa por Execesso: {multa_pagar}R$\")\n",
    "else:\n",
    "    print(\"Dentro do peso!!! \")"
   ]
  },
  {
   "cell_type": "markdown",
   "metadata": {},
   "source": [
    "'Faça um Programa que pergunte quanto você ganha por hora e o número de horas trabalhadas no mês. Calcule e mostre o total do seu salário no referido mês, sabendo-se que são descontados 11% para o Imposto de Renda, 8% para o INSS e 5% para o sindicato, faça um programa que nos dê:\n",
    "- salário bruto.\n",
    "- quanto pagou ao INSS.\n",
    "- quanto pagou ao sindicato.\n",
    "- o salário líquido.\n",
    "\n",
    "'calcule os descontos e o salário líquido, conforme a tabela abaixo:"
   ]
  },
  {
   "cell_type": "code",
   "execution_count": null,
   "metadata": {},
   "outputs": [],
   "source": [
    "valor_hora = float(input(\"Qual os ganhos por Hora Trabalhada: \"))\n",
    "trabalho_horas = float(input(\"Horas Trabalhadas: \"))\n",
    "salario_bruto = trabalho_horas*valor_hora\n",
    "ir = salario_bruto * (11/100)\n",
    "inss = salario_bruto * (8/100)\n",
    "sind= salario_bruto * (5/100)\n",
    "salario_liquido = salario_bruto - ir - inss - sind\n",
    "\n",
    "print(f\"Holerite\")\n",
    "print(f\"Salário liquido: {salario_bruto} \")\n",
    "print(f\"( IR ): {ir*-1}\")\n",
    "print(f\"( INSS : {inss*-1}\")\n",
    "print(f\"Sindicato: {sind*-1}\")\n",
    "print(f\"Salário Bruto: {salario_liquido}\")"
   ]
  },
  {
   "cell_type": "markdown",
   "metadata": {},
   "source": [
    "Faça um programa para uma loja de tintas. O programa deverá pedir o tamanho em metros quadrados da área a ser pintada. Considere que a cobertura da tinta é de 1 litro para cada 3 metros quadrados e que a tinta é vendida em latas de 18 litros, que custam R$ 80,00. Informe ao usuário a quantidades de latas de tinta a serem compradas e o preço total"
   ]
  },
  {
   "cell_type": "code",
   "execution_count": null,
   "metadata": {},
   "outputs": [],
   "source": [
    "tamanho_area = float(input(\"Qnts metros deseja Pintar: \"))\n",
    "area_lata = 18 * 3\n",
    "valor_tinta_lata = 80\n",
    "valor_tinta_metro = valor_tinta_lata/18\n",
    "quantidade_lata = tamanho_area / area_lata\n",
    "if quantidade_lata != int(quantidade_lata):\n",
    "    quantidade_lata=int(quantidade_lata+1)\n",
    "\n",
    "valor_total = quantidade_lata* valor_tinta_lata\n",
    "print(f\"Quantidade Lata: {quantidade_lata}\")\n",
    "print(f\"Valor Total: {valor_total}\")\n"
   ]
  },
  {
   "cell_type": "markdown",
   "metadata": {},
   "source": [
    "'Faça um Programa para uma loja de tintas. O programa deverá pedir o tamanho em metros quadrados da área a ser pintada. Considere que a cobertura da tinta é de 1 litro para cada 6 metros quadrados e que a tinta é vendida em latas de 18 litros, que custam R$ 80,00 ou em galões de 3,6 litros, que custam R$ 25,00.\n",
    "- Informe ao usuário as quantidades de tinta a serem compradas e os respectivos preços em 3 situações:\n",
    "- comprar apenas latas de 18 litros;\n",
    "- comprar apenas galões de 3,6 litros;\n",
    "- misturar latas e galões, de forma que o desperdício de tinta seja menor. Acrescente 10% de folga e sempre arredonde os valores para cima, isto é, considere latas cheias"
   ]
  },
  {
   "cell_type": "code",
   "execution_count": null,
   "metadata": {},
   "outputs": [],
   "source": [
    "# Váriaveis Globais\n",
    "tamanho_area = float(input(\"Qnts mts² deseja Pintar: \"))\n",
    "valor_lata = 80\n",
    "valor_galao = 25\n",
    "lata_litro = 18\n",
    "galao_litro = 3.6\n",
    "\n",
    "# Algoritimos para Quantidade Total usando apenas latas \n",
    "def quantidade_latas(area):\n",
    "    area_por_lata = lata_litro * 6\n",
    "\n",
    "    if tamanho_area <= area_por_lata:\n",
    "        qntd_lata = 1\n",
    "    else:\n",
    "        qntd_lata = area / area_por_lata\n",
    "        lata_cheia = int(qntd_lata)\n",
    "        fracao_lata = qntd_lata - lata_cheia\n",
    "\n",
    "        if fracao_lata > 0:\n",
    "            qntd_lata = lata_cheia + 1\n",
    "        else:\n",
    "            qntd_lata = lata_cheia\n",
    "\n",
    "    return qntd_lata\n",
    "\n",
    "# Algoritimos para Quantidade Total usando apenas Galões\n",
    "def quantidade_galao(area):\n",
    "    area_por_galao = galao_litro * 6\n",
    "\n",
    "    if tamanho_area <= area_por_galao:\n",
    "        qntd_galao = 1\n",
    "    else:\n",
    "        qntd_galao = area / area_por_galao\n",
    "        galao_cheio = int(qntd_galao)\n",
    "        fracao_galao = qntd_galao - galao_cheio\n",
    "\n",
    "        if fracao_galao > 0:\n",
    "            qntd_galao = galao_cheio + 1\n",
    "        else:\n",
    "            qntd_galao = galao_cheio\n",
    "            \n",
    "    return qntd_galao\n",
    "\n",
    "# Algoritimos para Quantidade Total usando Latas e Galoes \n",
    "\n",
    "\n",
    "latas_total = quantidade_latas(tamanho_area)\n",
    "galao_total = quantidade_galao(tamanho_area)\n",
    "valor_total_latas = latas_total * valor_lata\n",
    "valor_total_galao = galao_total * valor_galao\n",
    "\n",
    "print(f\"Área Total: {tamanho_area}(Mts²)\")\n",
    "\n",
    "print(\"****** LATAS *******\")\n",
    "print(f\"Total de latas que serão usadas: {latas_total}\")\n",
    "print(f\"Valor total: {valor_total_latas:.2f}R$\")\n",
    "print()\n",
    "print(f\"******* Galões **********\")\n",
    "print(f\"Total de Galões que serão usadas: {galao_total}\")\n",
    "print(f\"Valor total: {valor_total_galao:.2f}R$\")\n",
    "print(\"***** Galões e Latas ******\")\n",
    "\n"
   ]
  },
  {
   "cell_type": "code",
   "execution_count": null,
   "metadata": {},
   "outputs": [],
   "source": [
    "def quantidade_geral(area):\n",
    "    litros_necessario = area / 6\n",
    "    qntd_lata_cheia = int(litros_necessario / 18)\n",
    "    litros_total_latas = qntd_lata_cheia * 18\n",
    "    litros_restante = litros_necessario - litros_total_latas\n",
    "    qntd_galao_total = litros_restante / 3.6\n",
    "\n",
    "    if litros_restante > 0:\n",
    "\n",
    "        if qntd_galao_total == 1:\n",
    "            qntd_galao_total = 1\n",
    "        else:\n",
    "            qntd_galao_cheio = int(qntd_galao_total)\n",
    "            if qntd_galao_cheio == 0:\n",
    "                qntd_galao_total = qntd_galao_cheio + 1\n",
    "    \n",
    "        print(litros_necessario)\n",
    "        print(qntd_lata_cheia)\n",
    "        print(qntd_galao_total)\n",
    "    else:\n",
    "        print(litros_necessario)\n",
    "        print(qntd_lata_cheia)\n",
    "\n",
    "\n",
    "\n",
    "quantidade_geral(320)"
   ]
  }
 ],
 "metadata": {
  "kernelspec": {
   "display_name": "Python 3",
   "language": "python",
   "name": "python3"
  },
  "language_info": {
   "codemirror_mode": {
    "name": "ipython",
    "version": 3
   },
   "file_extension": ".py",
   "mimetype": "text/x-python",
   "name": "python",
   "nbconvert_exporter": "python",
   "pygments_lexer": "ipython3",
   "version": "3.13.3"
  }
 },
 "nbformat": 4,
 "nbformat_minor": 2
}
