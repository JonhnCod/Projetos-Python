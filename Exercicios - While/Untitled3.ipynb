{
 "cells": [
  {
   "cell_type": "code",
   "execution_count": null,
   "id": "822ff675",
   "metadata": {},
   "outputs": [],
   "source": [
    "while True:\n",
    "    nota= float(input(\"Digite uma nota de 0 á 10: \"))\n",
    "    if nota >= 0 and nota <= 10:\n",
    "        break\n",
    "    print(\"Nota invalida , porfavor digite novamente!\")\n",
    "print(\"A nota dada é\",nota)"
   ]
  },
  {
   "cell_type": "code",
   "execution_count": null,
   "id": "f0f6a951",
   "metadata": {},
   "outputs": [],
   "source": [
    "nome = input(\"Digite um usuario: \")\n",
    "senha = input(\"DIgite uma senha: \")\n",
    "while nome == senha:\n",
    "    print(\"Usuário nao pode ser igual a senha , Digite novamente!\")\n",
    "    nome = input(\"Digite um usuario: \")\n",
    "    senha = input(\"DIgite uma senha: \")\n",
    "print(\"Usuário cadastrado com sucessso\")"
   ]
  },
  {
   "cell_type": "code",
   "execution_count": null,
   "id": "fa3ad1d3",
   "metadata": {},
   "outputs": [],
   "source": [
    "nome = input(\"Digite um nome:\")\n",
    "while len(nome)<=3:\n",
    "    nome = input('Nome invalido Digite novamente: ')\n",
    "idade = int(input('Digite a idade: '))\n",
    "while idade < 0 or idade> 150:\n",
    "    idade = int(input(\"Digite uma idade valida: \"))\n",
    "salario = float(input(\"Digite o salario: \"))\n",
    "while salario < 0:\n",
    "    salario = float(input(\"Digite o salario valido: \"))\n",
    "sexo = input('Digite o sexo: ').lower()\n",
    "while sexo != 'f' and sexo != 'm':\n",
    "    sexo = input(\"Digite um sexo valido: \")\n",
    "if sexo == 'f':\n",
    "    sexo = \"Femenino\"\n",
    "else:\n",
    "    sexo = 'masculino'\n",
    "estado_civil = input('Digite o estado civil: ').lower()\n",
    "while estado_civil not in [ 's', 'c', 'v', 'd']:\n",
    "    estado_civil = input('Estado civil nao reconhecido,Digite um valido: ')\n",
    "if estado_civil == 's':\n",
    "    estado_civil = 'solteiro'\n",
    "elif estado_civil == 'c':\n",
    "    estado_civil = 'casado'\n",
    "elif estado_civil == 'v':\n",
    "    estado_civil = 'Viuvo'\n",
    "else:\n",
    "    estado_civil = 'divorciado'\n",
    "    \n",
    "print(\"***** Todas as informações ******\")\n",
    "print(\"Nome: \", nome)\n",
    "print(\"Idade: \", idade)\n",
    "print(\"Salario: \",salario)\n",
    "print(\"sexo: \", sexo)\n",
    "print(\"Estado civil: \",estado_civil)"
   ]
  },
  {
   "cell_type": "code",
   "execution_count": null,
   "id": "595d2fc0",
   "metadata": {},
   "outputs": [],
   "source": [
    "populacao_a = float(input('Digite a primeira populacao: '))\n",
    "taxa_cresc = float(input('Digite a taxa de crescimento dessa populacao: '))/100\n",
    "\n",
    "\n",
    "populacao_b = float(input('Digite a segunda populacao: '))\n",
    "taxa_cresci = float(input('Digite a taxa de crescimento dessa populacao: '))/100\n",
    "\n",
    "\n",
    "anos = 0\n",
    "if populacao_a < populacao_b:\n",
    "    while populacao_a <= populacao_b:\n",
    "        populacao_a += populacao_a*taxa_cresc\n",
    "        populacao_b += populacao_b*taxa_cresci\n",
    "        anos+=1\n",
    "else:\n",
    "    while populacao_a > populacao_b:\n",
    "        populacao_a += populacao_a*taxa_cresc\n",
    "        populacao_b += populacao_b*taxa_cresci\n",
    "        anos+=1\n",
    "    \n",
    "print(anos)"
   ]
  },
  {
   "cell_type": "code",
   "execution_count": null,
   "id": "a5e7ba9a",
   "metadata": {},
   "outputs": [],
   "source": [
    "i = 1\n",
    "while i > 0 and i < 21:\n",
    "    print(i)\n",
    "    i+=1\n",
    "print(list(range(1,21)))"
   ]
  },
  {
   "cell_type": "code",
   "execution_count": null,
   "id": "3a43d920",
   "metadata": {},
   "outputs": [],
   "source": [
    "contador = 0\n",
    "maior = None\n",
    "while contador < 5:\n",
    "    numero = int(input(\"Digite um numero: \"))\n",
    "    if contador == 0 or numero > maior:\n",
    "        maior = numero\n",
    "    contador+=1\n",
    "print(maior)  "
   ]
  },
  {
   "cell_type": "code",
   "execution_count": null,
   "id": "d081f39f",
   "metadata": {},
   "outputs": [],
   "source": [
    "contador = 0\n",
    "soma = 0\n",
    "while contador < 5:\n",
    "    numero = float(input(\"Digite um numero: \"))\n",
    "    soma+=numero\n",
    "    contador+=1\n",
    "media = soma/5\n",
    "print(f\"a soma dos numeros é {soma}, e media dos numeros é {media}!!\")\n",
    "    "
   ]
  },
  {
   "cell_type": "code",
   "execution_count": null,
   "id": "711e59a2",
   "metadata": {},
   "outputs": [],
   "source": [
    "print(list(range(1,50+1,2)))"
   ]
  },
  {
   "cell_type": "code",
   "execution_count": null,
   "id": "de7bd839",
   "metadata": {},
   "outputs": [],
   "source": [
    "n1 = int(input(\"Digite um numero: \"))\n",
    "n2 = int(input(\"Digite outro numero: \"))\n",
    "soma  = 0\n",
    "for numero in range(n1+1,n2):\n",
    "    soma+=numero\n",
    "print(soma)"
   ]
  },
  {
   "cell_type": "code",
   "execution_count": null,
   "id": "fd54138b",
   "metadata": {},
   "outputs": [],
   "source": [
    "numero = 0\n",
    "while numero not in range(1,11):\n",
    "    numero = int(input(\"Digite a tabuada: \"))\n",
    "    if numero in range(1,10):\n",
    "        for i in range(1,11):\n",
    "            tabuada = numero * i\n",
    "            print(f\"{numero} X {i} = {tabuada}\")\n",
    "            i+=1\n",
    "    else:\n",
    "        print(\"Digite um valor entre 1 e 10!!\")\n",
    "     "
   ]
  },
  {
   "cell_type": "code",
   "execution_count": null,
   "id": "5009bb92",
   "metadata": {},
   "outputs": [],
   "source": [
    "base = float(input(\"Digite o número base: \"))\n",
    "expoente = int(input(\"Digite o expoente: \"))\n",
    "\n",
    "resultado = 1\n",
    "\n",
    "for _ in range(expoente):\n",
    "    resultado *= base\n",
    "\n",
    "print(\"O resultado de\", base, \"elevado a\", expoente, \"é:\", resultado)"
   ]
  },
  {
   "cell_type": "code",
   "execution_count": null,
   "id": "c58892ac",
   "metadata": {},
   "outputs": [],
   "source": [
    "contador = 0\n",
    "par = 0\n",
    "impar = 0\n",
    "\n",
    "while contador < 10:\n",
    "    numero = int(input(\"Digite um numero inteiro: \"))\n",
    "    \n",
    "    if numero % 2 == 0:\n",
    "        par+=1\n",
    "    else:\n",
    "        impar+=1\n",
    "    contador+=1\n",
    "print(f\"Quantidade de numeros par {par}\\nE quantidade de numero ímpar {impar}\")\n",
    "    "
   ]
  },
  {
   "cell_type": "code",
   "execution_count": null,
   "id": "29fea107",
   "metadata": {},
   "outputs": [],
   "source": [
    "n = int(input(\"digite um numero inteiro: \"))\n",
    "while n <= 100:\n",
    "    if n <= 100:\n",
    "        termo1 = 1\n",
    "        termo2 = 1\n",
    "        for i in range(2,n):\n",
    "            termo_atual = termo1+termo2\n",
    "            print(termo_atual,sep=' ')\n",
    "            termo1=termo2\n",
    "            termo2=termo_atual\n",
    "            \n",
    "        \n",
    "        \n",
    "    else:\n",
    "        print(\"digite valor valido\")\n",
    "        n = n\n"
   ]
  }
 ],
 "metadata": {
  "kernelspec": {
   "display_name": "base",
   "language": "python",
   "name": "python3"
  },
  "language_info": {
   "codemirror_mode": {
    "name": "ipython",
    "version": 3
   },
   "file_extension": ".py",
   "mimetype": "text/x-python",
   "name": "python",
   "nbconvert_exporter": "python",
   "pygments_lexer": "ipython3",
   "version": "3.12.7"
  }
 },
 "nbformat": 4,
 "nbformat_minor": 5
}
