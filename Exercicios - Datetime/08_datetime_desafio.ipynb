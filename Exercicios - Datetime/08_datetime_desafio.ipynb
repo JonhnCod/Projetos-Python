{
 "cells": [
  {
   "cell_type": "markdown",
   "metadata": {},
   "source": [
    "## Calculando a idade\n",
    "\n",
    "Um usuário fornece sua data de nascimento no formato \"dd/mm/aaaa\". Crie um script Python que calcula a idade do usuário.\n"
   ]
  },
  {
   "cell_type": "code",
   "execution_count": null,
   "metadata": {},
   "outputs": [],
   "source": [
    "from datetime import  *\n",
    "data_atual = datetime.now()\n",
    "data_nascimento = input(\"Digite sua data de nasciemnto (obs: em formato dd/mm/aaaa): \")\n",
    "formato = '%d/%m/%Y'\n",
    "data_nasc_formatada = datetime.strptime(data_nascimento, formato).date()\n",
    "idade = data_atual.year - data_nasc_formatada.year\n",
    "mes_atual = data_atual.month\n",
    "mes_nascimento = data_nasc_formatada.month\n",
    "dia_atual = data_atual.day\n",
    "dia_nasc = data_nasc_formatada.day\n",
    "if mes_atual < mes_nascimento:\n",
    "    idade-=1\n",
    "elif mes_nascimento == mes_atual and dia_atual < dia_nasc:\n",
    "    idade-=1\n",
    "\n",
    "print(idade)"
   ]
  }
 ],
 "metadata": {
  "kernelspec": {
   "display_name": "Python 3",
   "language": "python",
   "name": "python3"
  },
  "language_info": {
   "codemirror_mode": {
    "name": "ipython",
    "version": 3
   },
   "file_extension": ".py",
   "mimetype": "text/x-python",
   "name": "python",
   "nbconvert_exporter": "python",
   "pygments_lexer": "ipython3",
   "version": "3.13.3"
  }
 },
 "nbformat": 4,
 "nbformat_minor": 4
}
